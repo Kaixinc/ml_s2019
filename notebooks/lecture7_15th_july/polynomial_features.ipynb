{
 "cells": [
  {
   "cell_type": "markdown",
   "metadata": {
    "slideshow": {
     "slide_type": "slide"
    }
   },
   "source": [
    "Demo of fitting polynomial with noisy data"
   ]
  },
  {
   "cell_type": "code",
   "execution_count": 1,
   "metadata": {
    "slideshow": {
     "slide_type": "subslide"
    }
   },
   "outputs": [],
   "source": [
    "import numpy as np\n",
    "import matplotlib.pyplot as plt\n",
    "%matplotlib inline"
   ]
  },
  {
   "cell_type": "code",
   "execution_count": 2,
   "metadata": {
    "slideshow": {
     "slide_type": "subslide"
    }
   },
   "outputs": [
    {
     "data": {
      "text/plain": [
       "array([-4.        , -3.11111111, -2.22222222, -1.33333333, -0.44444444,\n",
       "        0.44444444,  1.33333333,  2.22222222,  3.11111111,  4.        ])"
      ]
     },
     "execution_count": 2,
     "metadata": {},
     "output_type": "execute_result"
    }
   ],
   "source": [
    "x= np.linspace(-4, 4, 10)\n",
    "x"
   ]
  },
  {
   "cell_type": "code",
   "execution_count": 3,
   "metadata": {
    "slideshow": {
     "slide_type": "subslide"
    }
   },
   "outputs": [
    {
     "data": {
      "text/plain": [
       "array([ 28.99476291,   4.78496104,   0.71289759,  -6.8059712 ,\n",
       "         7.1207919 , -18.21477871,  15.73627189,  -1.1513836 ,\n",
       "        12.23132511,  14.005037  ])"
      ]
     },
     "execution_count": 3,
     "metadata": {},
     "output_type": "execute_result"
    }
   ],
   "source": [
    "np.random.seed(1)\n",
    "y = x**2 + np.random.randn(len(x))*8\n",
    "y"
   ]
  },
  {
   "cell_type": "code",
   "execution_count": 4,
   "metadata": {
    "slideshow": {
     "slide_type": "subslide"
    }
   },
   "outputs": [
    {
     "data": {
      "text/plain": [
       "<matplotlib.collections.PathCollection at 0x7f11701632e8>"
      ]
     },
     "execution_count": 4,
     "metadata": {},
     "output_type": "execute_result"
    },
    {
     "data": {
      "image/png": "[encoded data removed]",
      "text/plain": [
       "<Figure size 432x288 with 1 Axes>"
      ]
     },
     "metadata": {
      "needs_background": "light"
     },
     "output_type": "display_data"
    }
   ],
   "source": [
    "plt.scatter(x, y)"
   ]
  },
  {
   "cell_type": "code",
   "execution_count": 5,
   "metadata": {
    "slideshow": {
     "slide_type": "subslide"
    }
   },
   "outputs": [
    {
     "data": {
      "text/plain": [
       "[<matplotlib.lines.Line2D at 0x7f114b8b12e8>]"
      ]
     },
     "execution_count": 5,
     "metadata": {},
     "output_type": "execute_result"
    },
    {
     "data": {
      "image/png": "[encoded data removed]",
      "text/plain": [
       "<Figure size 432x288 with 1 Axes>"
      ]
     },
     "metadata": {
      "needs_background": "light"
     },
     "output_type": "display_data"
    }
   ],
   "source": [
    "from sklearn.linear_model import LinearRegression\n",
    "X = x[:, np.newaxis]\n",
    "model = LinearRegression().fit(X, y)\n",
    "y_hat = model.predict(X)\n",
    "plt.scatter(x, y)\n",
    "plt.plot(x, y_hat)"
   ]
  },
  {
   "cell_type": "code",
   "execution_count": 6,
   "metadata": {
    "slideshow": {
     "slide_type": "subslide"
    }
   },
   "outputs": [
    {
     "data": {
      "text/plain": [
       "array([[ 1.00000000e+00, -4.00000000e+00,  1.60000000e+01,\n",
       "        -6.40000000e+01,  2.56000000e+02, -1.02400000e+03,\n",
       "         4.09600000e+03, -1.63840000e+04,  6.55360000e+04,\n",
       "        -2.62144000e+05,  1.04857600e+06],\n",
       "       [ 1.00000000e+00, -3.11111111e+00,  9.67901235e+00,\n",
       "        -3.01124829e+01,  9.36832800e+01, -2.91459093e+02,\n",
       "         9.06761624e+02, -2.82103616e+03,  8.77655695e+03,\n",
       "        -2.73048438e+04,  8.49484031e+04],\n",
       "       [ 1.00000000e+00, -2.22222222e+00,  4.93827160e+00,\n",
       "        -1.09739369e+01,  2.43865264e+01, -5.41922810e+01,\n",
       "         1.20427291e+02, -2.67616202e+02,  5.94702672e+02,\n",
       "        -1.32156149e+03,  2.93680332e+03],\n",
       "       [ 1.00000000e+00, -1.33333333e+00,  1.77777778e+00,\n",
       "        -2.37037037e+00,  3.16049383e+00, -4.21399177e+00,\n",
       "         5.61865569e+00, -7.49154092e+00,  9.98872123e+00,\n",
       "        -1.33182950e+01,  1.77577266e+01],\n",
       "       [ 1.00000000e+00, -4.44444444e-01,  1.97530864e-01,\n",
       "        -8.77914952e-02,  3.90184423e-02, -1.73415299e-02,\n",
       "         7.70734663e-03, -3.42548739e-03,  1.52243884e-03,\n",
       "        -6.76639485e-04,  3.00728660e-04],\n",
       "       [ 1.00000000e+00,  4.44444444e-01,  1.97530864e-01,\n",
       "         8.77914952e-02,  3.90184423e-02,  1.73415299e-02,\n",
       "         7.70734663e-03,  3.42548739e-03,  1.52243884e-03,\n",
       "         6.76639485e-04,  3.00728660e-04],\n",
       "       [ 1.00000000e+00,  1.33333333e+00,  1.77777778e+00,\n",
       "         2.37037037e+00,  3.16049383e+00,  4.21399177e+00,\n",
       "         5.61865569e+00,  7.49154092e+00,  9.98872123e+00,\n",
       "         1.33182950e+01,  1.77577266e+01],\n",
       "       [ 1.00000000e+00,  2.22222222e+00,  4.93827160e+00,\n",
       "         1.09739369e+01,  2.43865264e+01,  5.41922810e+01,\n",
       "         1.20427291e+02,  2.67616202e+02,  5.94702672e+02,\n",
       "         1.32156149e+03,  2.93680332e+03],\n",
       "       [ 1.00000000e+00,  3.11111111e+00,  9.67901235e+00,\n",
       "         3.01124829e+01,  9.36832800e+01,  2.91459093e+02,\n",
       "         9.06761624e+02,  2.82103616e+03,  8.77655695e+03,\n",
       "         2.73048438e+04,  8.49484031e+04],\n",
       "       [ 1.00000000e+00,  4.00000000e+00,  1.60000000e+01,\n",
       "         6.40000000e+01,  2.56000000e+02,  1.02400000e+03,\n",
       "         4.09600000e+03,  1.63840000e+04,  6.55360000e+04,\n",
       "         2.62144000e+05,  1.04857600e+06]])"
      ]
     },
     "execution_count": 6,
     "metadata": {},
     "output_type": "execute_result"
    }
   ],
   "source": [
    "from sklearn.preprocessing import PolynomialFeatures\n",
    "poly_feat = PolynomialFeatures(degree=10)\n",
    "X_poly = poly_feat.fit_transform(X)\n",
    "X_poly"
   ]
  },
  {
   "cell_type": "code",
   "execution_count": 7,
   "metadata": {
    "slideshow": {
     "slide_type": "subslide"
    }
   },
   "outputs": [
    {
     "data": {
      "text/plain": [
       "[<matplotlib.lines.Line2D at 0x7f112b2316a0>]"
      ]
     },
     "execution_count": 7,
     "metadata": {},
     "output_type": "execute_result"
    },
    {
     "data": {
      "image/png": "[encoded data removed]",
      "text/plain": [
       "<Figure size 432x288 with 1 Axes>"
      ]
     },
     "metadata": {
      "needs_background": "light"
     },
     "output_type": "display_data"
    }
   ],
   "source": [
    "model = LinearRegression().fit(X_poly, y)\n",
    "y_hat = model.predict(X_poly)\n",
    "plt.scatter(x, y)\n",
    "plt.plot(x, y_hat)"
   ]
  },
  {
   "cell_type": "code",
   "execution_count": 8,
   "metadata": {},
   "outputs": [
    {
     "data": {
      "text/plain": [
       "array([-1.33670208e-10, -3.68446340e+01,  3.49245485e+00,  4.47590923e+01,\n",
       "        3.79914423e+00, -1.30518339e+01, -1.62096178e+00,  1.31569504e+00,\n",
       "        1.84053284e-01, -4.16411128e-02, -6.12568282e-03])"
      ]
     },
     "execution_count": 8,
     "metadata": {},
     "output_type": "execute_result"
    }
   ],
   "source": [
    "model.coef_"
   ]
  },
  {
   "cell_type": "code",
   "execution_count": 11,
   "metadata": {},
   "outputs": [],
   "source": [
    "from sklearn import linear_model\n"
   ]
  },
  {
   "cell_type": "code",
   "execution_count": 29,
   "metadata": {},
   "outputs": [],
   "source": [
    "    reg = linear_model.Ridge(alpha=20)"
   ]
  },
  {
   "cell_type": "code",
   "execution_count": 30,
   "metadata": {},
   "outputs": [
    {
     "data": {
      "text/plain": [
       "[<matplotlib.lines.Line2D at 0x7f1128c9f278>]"
      ]
     },
     "execution_count": 30,
     "metadata": {},
     "output_type": "execute_result"
    },
    {
     "data": {
      "image/png": "[encoded data removed]",
      "text/plain": [
       "<Figure size 432x288 with 1 Axes>"
      ]
     },
     "metadata": {
      "needs_background": "light"
     },
     "output_type": "display_data"
    }
   ],
   "source": [
    "model = reg.fit(X_poly, y)\n",
    "y_hat = model.predict(X_poly)\n",
    "plt.scatter(x, y)\n",
    "plt.plot(x, y_hat)"
   ]
  },
  {
   "cell_type": "code",
   "execution_count": 31,
   "metadata": {},
   "outputs": [
    {
     "data": {
      "text/plain": [
       "array([ 0.        ,  0.40479099,  0.5107671 ,  0.85249429,  0.55686549,\n",
       "       -0.34078145, -0.23212542,  0.04141488,  0.02791324, -0.00150008,\n",
       "       -0.00095951])"
      ]
     },
     "execution_count": 31,
     "metadata": {},
     "output_type": "execute_result"
    }
   ],
   "source": [
    "model.coef_"
   ]
  }
 ],
 "metadata": {
  "celltoolbar": "Slideshow",
  "kernelspec": {
   "display_name": "Python 3",
   "language": "python",
   "name": "python3"
  },
  "language_info": {
   "codemirror_mode": {
    "name": "ipython",
    "version": 3
   },
   "file_extension": ".py",
   "mimetype": "text/x-python",
   "name": "python",
   "nbconvert_exporter": "python",
   "pygments_lexer": "ipython3",
   "version": "3.5.2"
  },
  "toc": {
   "base_numbering": 1,
   "nav_menu": {},
   "number_sections": true,
   "sideBar": true,
   "skip_h1_title": false,
   "title_cell": "Table of Contents",
   "title_sidebar": "Contents",
   "toc_cell": false,
   "toc_position": {},
   "toc_section_display": true,
   "toc_window_display": false
  },
  "varInspector": {
   "cols": {
    "lenName": 16,
    "lenType": 16,
    "lenVar": 40
   },
   "kernels_config": {
    "python": {
     "delete_cmd_postfix": "",
     "delete_cmd_prefix": "del ",
     "library": "var_list.py",
     "varRefreshCmd": "print(var_dic_list())"
    },
    "r": {
     "delete_cmd_postfix": ") ",
     "delete_cmd_prefix": "rm(",
     "library": "var_list.r",
     "varRefreshCmd": "cat(var_dic_list()) "
    }
   },
   "types_to_exclude": [
    "module",
    "function",
    "builtin_function_or_method",
    "instance",
    "_Feature"
   ],
   "window_display": false
  }
 },
 "nbformat": 4,
 "nbformat_minor": 2
}
