{
 "cells": [
  {
   "cell_type": "markdown",
   "metadata": {},
   "source": [
    "# Solve following  coding problem in  python and numpy"
   ]
  },
  {
   "cell_type": "markdown",
   "metadata": {},
   "source": [
    "- Load this notebook using gogole colab or your local python compute environment\n",
    "- To run the code cell press **ctr+enter**\n",
    "- To run the code and create new  cell press **alt+enter**\n",
    "- Write you code in line **annotated with # write code here.**"
   ]
  },
  {
   "cell_type": "markdown",
   "metadata": {},
   "source": [
    "# Q1 (.5 point) Print all possible combinations of 2 letters from my_list\n",
    "# using combinations from itertools library\n",
    "hint: your answer should be (2, 5)\n",
    "(2, 7)\n",
    "(5, 7)\n",
    "ignoring the order or element in each tuple"
   ]
  },
  {
   "cell_type": "code",
   "execution_count": null,
   "metadata": {},
   "outputs": [],
   "source": [
    "my_list= [2, 5,7]\n",
    "#write code here"
   ]
  },
  {
   "cell_type": "markdown",
   "metadata": {},
   "source": [
    "# Q2 For the given vector a, b, using numpy einsum function perform the following operations.\n",
    "\n",
    "https://docs.scipy.org/doc/numpy/reference/generated/numpy.einsum.html"
   ]
  },
  {
   "cell_type": "code",
   "execution_count": null,
   "metadata": {},
   "outputs": [],
   "source": [
    "import numpy as np\n",
    "a= np.array([1, 3 ,5])\n",
    "b = np.array([2, 4 ,1])"
   ]
  },
  {
   "cell_type": "markdown",
   "metadata": {},
   "source": [
    "## Q2a(.5) Write the code for inner product/dot product using einsum\n",
    "\n",
    "$$a^Tb$$"
   ]
  },
  {
   "cell_type": "code",
   "execution_count": null,
   "metadata": {},
   "outputs": [],
   "source": [
    "# Write the code for dot product suing einsum\n",
    "\n"
   ]
  },
  {
   "cell_type": "markdown",
   "metadata": {},
   "source": [
    "## Q2b(.5)  Write the code for outer product \n",
    "\n",
    " $$ab^T$$"
   ]
  },
  {
   "cell_type": "code",
   "execution_count": null,
   "metadata": {},
   "outputs": [],
   "source": [
    "# Write the code for outer product\n",
    "\n"
   ]
  },
  {
   "cell_type": "markdown",
   "metadata": {},
   "source": [
    "# Q3(.5 point) Using einsum write the code for matrix multiplication of given matrices A and B\n",
    "\n"
   ]
  },
  {
   "cell_type": "code",
   "execution_count": null,
   "metadata": {},
   "outputs": [],
   "source": [
    "A = np.arange(6).reshape((2, 3))\n",
    "print(A)\n",
    "B= np.arange(2,8).reshape(3,2)\n",
    "print(B)\n",
    "\n",
    "# Write code here"
   ]
  },
  {
   "cell_type": "markdown",
   "metadata": {},
   "source": [
    "# Q4(.25point) Using slicing, print all the element from  2 to 3 rd row and 1 to 3 column in following 2d numpy array\n",
    "hint. Be careful about zero based indexing and you answer should be \n",
    "array([[ 6,  7,  8],\n",
    "\n",
    "      [12, 13, 14]])"
   ]
  },
  {
   "cell_type": "code",
   "execution_count": null,
   "metadata": {},
   "outputs": [],
   "source": [
    "import numpy as np\n",
    "my_arr = np.arange(30).reshape((5, 6))\n",
    "my_arr"
   ]
  },
  {
   "cell_type": "code",
   "execution_count": null,
   "metadata": {},
   "outputs": [],
   "source": [
    "# write code here\n",
    "my_arr[1:3, 0:3]"
   ]
  },
  {
   "cell_type": "markdown",
   "metadata": {},
   "source": [
    "# Q5 (.25 point) From linalg submodule of numpy use svd for matrix factorization.\n",
    "# use full_matrices=True argument in svd\n"
   ]
  },
  {
   "cell_type": "code",
   "execution_count": null,
   "metadata": {},
   "outputs": [],
   "source": [
    "# svd. singluar value decomposition\n",
    "np.random.seed(1)\n",
    "A = np.random.randn(4,3)\n",
    "print('original matrix')\n",
    "print(A)\n",
    "###############################\n",
    "\n",
    "u, s, vh = # write svd function call code here\n",
    "\n",
    "print(u.shape, s.shape, vh.shape)\n",
    "\n"
   ]
  },
  {
   "cell_type": "markdown",
   "metadata": {},
   "source": [
    "# Q6(.5 point) Using numpy multiply u, S, vh back. "
   ]
  },
  {
   "cell_type": "code",
   "execution_count": null,
   "metadata": {},
   "outputs": [],
   "source": [
    "print('Multiplying back')\n",
    "\n",
    "A_hat = # write matrix multiplication code here\n",
    "\n",
    "\n",
    "# let check if factorization is  true\n",
    "assert True == np.allclose(A, A_hat) , 'factorization is not true'"
   ]
  }
 ],
 "metadata": {
  "kernelspec": {
   "display_name": "Python 3",
   "language": "python",
   "name": "python3"
  },
  "language_info": {
   "codemirror_mode": {
    "name": "ipython",
    "version": 3
   },
   "file_extension": ".py",
   "mimetype": "text/x-python",
   "name": "python",
   "nbconvert_exporter": "python",
   "pygments_lexer": "ipython3",
   "version": "3.5.2"
  },
  "toc": {
   "base_numbering": 1,
   "nav_menu": {},
   "number_sections": false,
   "sideBar": true,
   "skip_h1_title": false,
   "title_cell": "Table of Contents",
   "title_sidebar": "Contents",
   "toc_cell": false,
   "toc_position": {},
   "toc_section_display": true,
   "toc_window_display": false
  },
  "varInspector": {
   "cols": {
    "lenName": 16,
    "lenType": 16,
    "lenVar": 40
   },
   "kernels_config": {
    "python": {
     "delete_cmd_postfix": "",
     "delete_cmd_prefix": "del ",
     "library": "var_list.py",
     "varRefreshCmd": "print(var_dic_list())"
    },
    "r": {
     "delete_cmd_postfix": ") ",
     "delete_cmd_prefix": "rm(",
     "library": "var_list.r",
     "varRefreshCmd": "cat(var_dic_list()) "
    }
   },
   "types_to_exclude": [
    "module",
    "function",
    "builtin_function_or_method",
    "instance",
    "_Feature"
   ],
   "window_display": false
  }
 },
 "nbformat": 4,
 "nbformat_minor": 2
}
