{
 "cells": [
  {
   "cell_type": "markdown",
   "metadata": {},
   "source": [
    "# We don't have time to build SVM from scratch. In this notebook you will learn:(All the problem are .5 marks= total 2 points)\n",
    " - To build SVM and kernel SVM for binary classification(using sklearn). \n",
    " - To use different metric for evaluation of a classification model.\n",
    " \n",
    "Side Note. We don't have time to go into details about following things but I want you to be aware of following important usage of svm in practice.\n",
    "-  Using dual formulation we can use **kernel trick** to convert SVM to **kernel SVM**.\n",
    "- SVM supports regression(See **SVR in sklearn**) too. Look into literature for regression usage.\n",
    "- SVM supports multi-class classification.\n",
    "- We can combine multiple kernel to use data from different sources(video, image ,audio) and using right kernel to measure similarity and then combine.  **See MKL https://en.wikipedia.org/wiki/Multiple_kernel_learning **\n",
    "  \n",
    "- **One class SVM** are used for novelty (anomalies, out lier, noise etc) detection in fraud detection, medical abnormality, production abnormality etc.\n",
    "\n",
    "\n",
    "- See this paper for a review of novelty detection methods. http://www.robots.ox.ac.uk/~davidc/pubs/NDreview2014.pdf"
   ]
  },
  {
   "cell_type": "markdown",
   "metadata": {},
   "source": [
    "# Let's review some theory. Following formulation of SVM uses Dual formulation of the problem(You have to understand optimization theory to go into details). See following link to see the derivation. "
   ]
  },
  {
   "cell_type": "markdown",
   "metadata": {},
   "source": [
    "In this notebook you will use  SVM/kernel SVM from sklearn. From the book, we know that SMV primal objective is\n",
    "\n",
    "$\\min_{w, w_0} \\frac{1}{2}||w||^2 + C \\sum_{i=1}^{N} \\xi_i$ st $y_i(w^T +w_0) \\gt 1 $  for $\\forall i$\n",
    "\n",
    "Note the label is $(+1, -1)$ instead of $(0, 1)$"
   ]
  },
  {
   "cell_type": "markdown",
   "metadata": {},
   "source": [
    "\n",
    "Infact Dual problem(using Lagrangian) is written as \n",
    "$\\min_{\\alpha} \\frac{1}{2}\\sum_{i=1}^N \\alpha_i \\alpha_j y_i y_j(x_i^T x_j) - 1^T \\alpha$ s.t $ \\alpha_i \\ge 0$ and $y^T\\alpha = 0$\n",
    "\n",
    "or \n",
    "\n",
    "$\\min_{\\alpha} \\frac{1}{2}\\alpha^T K \\alpha - 1^T \\alpha$ s.t $ \\alpha_i \\ge 0$ and $y^T\\alpha = 0$\n",
    "\n",
    "where  $\\frac{1}{2}\\alpha^T K \\alpha$ = $\\sum_{i=1}^N \\alpha_i \\alpha_j y_i y_j(x_i^T x_j)$ and $\\alpha$ is vector of $\\alpha_i$. Similar interpretation for $y$ and $y_i$. \n"
   ]
  },
  {
   "cell_type": "markdown",
   "metadata": {},
   "source": [
    "If you review optimization theory, you can look at the derivation here\n",
    "http://cs229.stanford.edu/notes/cs229-notes3.pdf\n",
    "\n"
   ]
  },
  {
   "cell_type": "markdown",
   "metadata": {},
   "source": [
    "\n",
    "Dual problem depends only on inner product $x_i^Tx_j$ between $x_i, x_j$ . Hence we can replace it with a mercer kernel $\\mathcal{k}(x_i, x_j) = \\phi(x_i)^T \\phi(x_j)$ **where $\\phi$ is the implicit function\n",
    "guaranteed by mercer theorem.**  You can think of it as a feature mapping function $x_i \\rightarrow \\phi(x_i)$.\n",
    "For kernel svm replace matrix K  using i.e $K_{ij} = y_i  y_j \\mathcal{k}(x_i,x_j)$ where  $\\mathcal{k}$ is any kernel. \n",
    "\n",
    "Complete dual problem in dual form is\n",
    "$\\min_{\\alpha} \\frac{1}{2}\\sum_{i=1}^N \\alpha_i \\alpha_j y_i y_j \\mathcal{k}(x_i, x_j) - 1^T \\alpha$ s.t $ \\alpha_i \\ge 0$ and $y^T\\alpha = 0$\n",
    "\n",
    "\n",
    "$k$ can be RBF kernel we talked in the class. RBF kernel actually maps $x$ into an infinite dimensional space.\n",
    "\n",
    "$$k(x_i, x_j) = \\exp(\\frac{-\\|(x_i -x_j)\\|^2}{\\sigma^2})=\\exp(-\\gamma \\|(x_i -x_j)\\|^2$$\n",
    "\n",
    "But we need to tune $\\sigma$ or $\\gamma$.\n",
    "\n",
    "higher value of $\\sigma$ or **lower value of $\\gamma$ under fits** the training set and smaller value of $\\sigma$\n",
    "or **larger value $\\gamma$ causes over fitting.**\n",
    "\n",
    "See this demo:\n",
    "\n",
    "https://cs.stanford.edu/people/karpathy/svmjs/demo/ by\n",
    "\n",
    " [Andrej Karpathy](http://karpathy.github.io/) to understand effect of $\\gamma$ and  $C$.\n",
    "\n",
    "There is also a regularization hyper-parameter $C$ you need to fine tune.\n",
    "\n"
   ]
  },
  {
   "cell_type": "markdown",
   "metadata": {},
   "source": [
    "# One can use cvxopt(python optimization package) to solve above problem\n",
    "<font color =\"red\">You  need not to worry about using cvxopt usage. I am just mentioning it in case you need to build svm ever.</font>\n",
    "\n",
    "## cvxopt Quadratic program solver (QP). \n",
    "\n",
    "Click here to learn more about [Python Software for Convex Optimization](http://cvxopt.org/)\n",
    "\n",
    "cvxopt.solvers.qp(P, q[, G, h[, A, b[, solver[, initvals]]]])\n",
    "\n",
    "which solves the problem\n",
    "\n",
    "\n",
    "$\\min_{x} \\frac{1}{2}x^T P x {\\bf+} q^T x$ s.t $Gx \\preceq h$ and $Ax = b$. Note $\\preceq$ denotes componentwise inequality\n"
   ]
  },
  {
   "cell_type": "markdown",
   "metadata": {},
   "source": [
    "Hence we need to map to this interface. Clearly $x$ is $\\alpha$ and $K$ is $P$, $q$ is vector of -1.\n",
    "\n",
    "Now we have to build  inequality\n",
    "\n",
    "**(i)** $\\alpha_i \\ge 0$ or $ -\\alpha_i < 0 $ for all $i$ or in matrix \n",
    "form $- I\\alpha \\preceq {\\bf 0}$ where $I$ is  identity matrix of size $N \\times N$ and  ${\\bf 0}$ is vector of zeros of size N(number of samples)\n",
    "\n",
    "\n",
    "\n",
    "\n",
    " \n",
    "Hence $G $ will be $\\begin{bmatrix} -I  \\end{bmatrix}$  and $h$ is $\\begin{bmatrix} {\\bf 0}   \\end{bmatrix} $\n",
    "\n",
    "\n",
    "$A$  is $y^T$ and $b$ is $0$"
   ]
  },
  {
   "cell_type": "markdown",
   "metadata": {},
   "source": [
    "Once you solve for $\\alpha$, w is equal to $\\sum_{i} \\alpha_i y_i \\phi(x_i)$ and $w_0$  is equal to $\\frac{max_{j:y_j =-1} \\sum_{i} \\alpha_i y_i k(x_i, x_j) +  min_{j:y_j =1} \\sum_{i} \\alpha_i y_i k(x_i, x_j)}{2}$ \n",
    "\n",
    "use the sign$(w^T x_{test} + w_0)$  or  sign$(\\sum_{i}^{N} \\alpha_i  y_i \\mathcal{k}(x_i,x_{test}) + w_0)$ to predict label of test data\n",
    "\n"
   ]
  },
  {
   "cell_type": "markdown",
   "metadata": {},
   "source": [
    "# We will not build SVM using cvxopt but focus on sklearn library usage."
   ]
  },
  {
   "cell_type": "code",
   "execution_count": 280,
   "metadata": {},
   "outputs": [],
   "source": [
    "from sklearn.datasets import load_breast_cancer\n",
    "import numpy as np\n",
    "import matplotlib.pyplot as plt\n",
    "%matplotlib inline\n"
   ]
  },
  {
   "cell_type": "code",
   "execution_count": 281,
   "metadata": {},
   "outputs": [],
   "source": [
    "data = load_breast_cancer()"
   ]
  },
  {
   "cell_type": "code",
   "execution_count": 282,
   "metadata": {},
   "outputs": [
    {
     "data": {
      "text/plain": [
       "['malignant', 'benign']"
      ]
     },
     "execution_count": 282,
     "metadata": {},
     "output_type": "execute_result"
    }
   ],
   "source": [
    "list(data.target_names)"
   ]
  },
  {
   "cell_type": "code",
   "execution_count": 283,
   "metadata": {},
   "outputs": [
    {
     "data": {
      "text/plain": [
       "30"
      ]
     },
     "execution_count": 283,
     "metadata": {},
     "output_type": "execute_result"
    }
   ],
   "source": [
    "len(data.feature_names)"
   ]
  },
  {
   "cell_type": "code",
   "execution_count": 284,
   "metadata": {},
   "outputs": [],
   "source": [
    "X = data.data\n",
    "y= data.target"
   ]
  },
  {
   "cell_type": "code",
   "execution_count": 285,
   "metadata": {},
   "outputs": [
    {
     "data": {
      "text/plain": [
       "array([0, 0, 0, 0, 0, 0, 0, 0, 0, 0, 0, 0, 0, 0, 0, 0, 0, 0, 0, 1, 1, 1,\n",
       "       0, 0, 0, 0, 0, 0, 0, 0])"
      ]
     },
     "execution_count": 285,
     "metadata": {},
     "output_type": "execute_result"
    }
   ],
   "source": [
    "\n",
    "y[0:30]"
   ]
  },
  {
   "cell_type": "markdown",
   "metadata": {},
   "source": [
    "# Let's standardize the features"
   ]
  },
  {
   "cell_type": "code",
   "execution_count": 286,
   "metadata": {},
   "outputs": [],
   "source": [
    "from sklearn.preprocessing import StandardScaler"
   ]
  },
  {
   "cell_type": "code",
   "execution_count": 287,
   "metadata": {},
   "outputs": [],
   "source": [
    "scaler = StandardScaler()\n",
    "scaler.fit(X)\n",
    "X1 = scaler.transform(X)"
   ]
  },
  {
   "cell_type": "code",
   "execution_count": 288,
   "metadata": {},
   "outputs": [
    {
     "data": {
      "text/plain": [
       "array([ 3.97128765,  4.65188898,  3.97612984,  5.25052883,  4.77091122,\n",
       "        4.56842498,  4.24358882,  3.92792966,  4.48475086,  4.91091929,\n",
       "        8.90690934,  6.65527935,  9.46198577, 11.04184226,  8.02999927,\n",
       "        6.14348219, 12.0726804 ,  6.64960079,  7.07191706,  9.85159257,\n",
       "        4.09418939,  3.88590505,  4.28733746,  5.9301724 ,  3.95537411,\n",
       "        5.11287727,  4.7006688 ,  2.68587702,  6.04604135,  6.84685604])"
      ]
     },
     "execution_count": 288,
     "metadata": {},
     "output_type": "execute_result"
    }
   ],
   "source": [
    "np.max(X1, axis=0)"
   ]
  },
  {
   "cell_type": "code",
   "execution_count": 289,
   "metadata": {},
   "outputs": [],
   "source": [
    "X= X1"
   ]
  },
  {
   "cell_type": "markdown",
   "metadata": {},
   "source": [
    "We are going to use k fold cross validation hence only splitting data into train and test."
   ]
  },
  {
   "cell_type": "code",
   "execution_count": 290,
   "metadata": {},
   "outputs": [],
   "source": [
    "from sklearn.model_selection import train_test_split"
   ]
  },
  {
   "cell_type": "code",
   "execution_count": 291,
   "metadata": {},
   "outputs": [],
   "source": [
    "X_train, X_test, y_train, y_test = train_test_split(X, y, test_size=0.4, random_state=1)"
   ]
  },
  {
   "cell_type": "markdown",
   "metadata": {},
   "source": [
    "# Use sklearn  SVM . \n",
    "\n"
   ]
  },
  {
   "cell_type": "code",
   "execution_count": 292,
   "metadata": {},
   "outputs": [
    {
     "data": {
      "text/plain": [
       "LinearSVC(C=1.0, class_weight=None, dual=True, fit_intercept=True,\n",
       "          intercept_scaling=1, loss='squared_hinge', max_iter=1000,\n",
       "          multi_class='ovr', penalty='l2', random_state=None, tol=0.0001,\n",
       "          verbose=0)"
      ]
     },
     "execution_count": 292,
     "metadata": {},
     "output_type": "execute_result"
    }
   ],
   "source": [
    "from sklearn import svm\n",
    "clf = svm.LinearSVC() \n",
    "clf.fit(X_train, y_train)\n"
   ]
  },
  {
   "cell_type": "markdown",
   "metadata": {},
   "source": [
    "# Accuracy"
   ]
  },
  {
   "cell_type": "code",
   "execution_count": 293,
   "metadata": {},
   "outputs": [
    {
     "data": {
      "text/plain": [
       "0.9605263157894737"
      ]
     },
     "execution_count": 293,
     "metadata": {},
     "output_type": "execute_result"
    }
   ],
   "source": [
    "clf.score(X_test, y_test)"
   ]
  },
  {
   "cell_type": "code",
   "execution_count": 294,
   "metadata": {},
   "outputs": [],
   "source": [
    "y_test_pred = clf.predict(X_test)"
   ]
  },
  {
   "cell_type": "markdown",
   "metadata": {},
   "source": [
    "# Recall metric (true positive are recalled)"
   ]
  },
  {
   "cell_type": "code",
   "execution_count": 295,
   "metadata": {},
   "outputs": [],
   "source": [
    "from sklearn.metrics import recall_score, precision_score, roc_curve, roc_auc_score, f1_score, fbeta_score, classification_report"
   ]
  },
  {
   "cell_type": "markdown",
   "metadata": {},
   "source": [
    "# Q1 Using sklearn print recall, precision and f1 score"
   ]
  },
  {
   "cell_type": "code",
   "execution_count": 4,
   "metadata": {},
   "outputs": [],
   "source": [
    "# Write code here\n",
    "\n",
    "\n"
   ]
  },
  {
   "cell_type": "markdown",
   "metadata": {},
   "source": [
    "# Q2 Print Fbeta score  with average='weighted' and weight of precision in harmonic mean = .6."
   ]
  },
  {
   "cell_type": "code",
   "execution_count": 3,
   "metadata": {},
   "outputs": [],
   "source": [
    "# write code here\n",
    "\n"
   ]
  },
  {
   "cell_type": "markdown",
   "metadata": {},
   "source": [
    "# Kernel SVM using sklearn\n",
    "\n",
    "We'll avoid writing loop for find best gamma and C(In ridge regression we wrote a loop to find best $\\lambda$). Instead, we'll use GridSearchCV interface to search for best hyper-parameters.\n",
    "\n",
    "\n",
    "GridSearchCV lets you combine an estimator(like Logistic regression, SVM etc.) with a grid search preamble to tune hyper-parameters. "
   ]
  },
  {
   "cell_type": "code",
   "execution_count": 299,
   "metadata": {},
   "outputs": [],
   "source": [
    "hyper_parameters = [{'kernel': ['rbf'], 'gamma': [1e-3, 1e-4],\n",
    "                     'C': [1, 10, 100, 1000]}]"
   ]
  },
  {
   "cell_type": "code",
   "execution_count": 300,
   "metadata": {},
   "outputs": [],
   "source": [
    "from sklearn.svm import SVC\n",
    "from sklearn.model_selection import GridSearchCV"
   ]
  },
  {
   "cell_type": "markdown",
   "metadata": {},
   "source": [
    "# More details about Grid Search options read\n",
    "\n",
    "- https://scikit-learn.org/stable/modules/generated/sklearn.model_selection.GridSearchCV.html\n",
    "- https://scikit-learn.org/stable/modules/grid_search.html#grid-search\n",
    "\n",
    "There are more effective model specific grid serach API:\n",
    "https://scikit-learn.org/stable/modules/grid_search.html#model-specific-cross-validation\n",
    "\n",
    "\n",
    "\n",
    "\n",
    "\n",
    "\n",
    "\n",
    "One important scoring function in GridSearchCV is **scoring(by default score function of the passed estimator is used)**. In case of unbalanced data set accuracy is uninformative and you may want to use precision , recall or other metric. More details are at this link:\n",
    "\n",
    "https://scikit-learn.org/stable/modules/grid_search.html#gridsearch-scoring"
   ]
  },
  {
   "cell_type": "code",
   "execution_count": 301,
   "metadata": {},
   "outputs": [],
   "source": [
    "# We need probability also to plot ROC curve\n",
    "clf = GridSearchCV(SVC(probability=True), hyper_parameters, cv=5,\n",
    "                        verbose=10)"
   ]
  },
  {
   "cell_type": "markdown",
   "metadata": {},
   "source": [
    "You can see that with 2 values of gamma and 4 values of C, using 5 fold cross validation, we have to fit\n",
    "**4\\*2\\*5=40 different kernel SVMs.** Look at the output of fit method too.\n",
    "\n",
    "Also note that refit parameter in GridSearchCV is True, so once best model parameters are determined using cross validation, GridSearchCV return final trained model using best parameters on the full data."
   ]
  },
  {
   "cell_type": "code",
   "execution_count": 302,
   "metadata": {},
   "outputs": [
    {
     "name": "stdout",
     "output_type": "stream",
     "text": [
      "Fitting 5 folds for each of 8 candidates, totalling 40 fits\n",
      "[CV] C=1, gamma=0.001, kernel=rbf ....................................\n",
      "[CV] ........ C=1, gamma=0.001, kernel=rbf, score=0.899, total=   0.0s\n",
      "[CV] C=1, gamma=0.001, kernel=rbf ....................................\n",
      "[CV] ........ C=1, gamma=0.001, kernel=rbf, score=0.957, total=   0.0s\n",
      "[CV] C=1, gamma=0.001, kernel=rbf ....................................\n",
      "[CV] ........ C=1, gamma=0.001, kernel=rbf, score=0.941, total=   0.0s\n",
      "[CV] C=1, gamma=0.001, kernel=rbf ....................................\n",
      "[CV] ........ C=1, gamma=0.001, kernel=rbf, score=0.971, total=   0.0s\n",
      "[CV] C=1, gamma=0.001, kernel=rbf ....................................\n",
      "[CV] ........ C=1, gamma=0.001, kernel=rbf, score=0.940, total=   0.0s\n",
      "[CV] C=1, gamma=0.0001, kernel=rbf ...................................\n",
      "[CV] ....... C=1, gamma=0.0001, kernel=rbf, score=0.739, total=   0.0s\n",
      "[CV] C=1, gamma=0.0001, kernel=rbf ...................................\n",
      "[CV] ....... C=1, gamma=0.0001, kernel=rbf, score=0.681, total=   0.0s\n",
      "[CV] C=1, gamma=0.0001, kernel=rbf ...................................\n",
      "[CV] ....... C=1, gamma=0.0001, kernel=rbf, score=0.662, total=   0.0s\n",
      "[CV] C=1, gamma=0.0001, kernel=rbf ...................................\n",
      "[CV] ....... C=1, gamma=0.0001, kernel=rbf, score=0.721, total=   0.0s\n",
      "[CV] C=1, gamma=0.0001, kernel=rbf ...................................\n",
      "[CV] ....... C=1, gamma=0.0001, kernel=rbf, score=0.672, total=   0.0s\n",
      "[CV] C=10, gamma=0.001, kernel=rbf ...................................\n",
      "[CV] ....... C=10, gamma=0.001, kernel=rbf, score=0.899, total=   0.0s\n",
      "[CV] C=10, gamma=0.001, kernel=rbf ...................................\n",
      "[CV] ....... C=10, gamma=0.001, kernel=rbf, score=0.986, total=   0.0s\n",
      "[CV] C=10, gamma=0.001, kernel=rbf ...................................\n"
     ]
    },
    {
     "name": "stderr",
     "output_type": "stream",
     "text": [
      "[Parallel(n_jobs=1)]: Using backend SequentialBackend with 1 concurrent workers.\n",
      "[Parallel(n_jobs=1)]: Done   1 out of   1 | elapsed:    0.0s remaining:    0.0s\n",
      "[Parallel(n_jobs=1)]: Done   2 out of   2 | elapsed:    0.0s remaining:    0.0s\n",
      "[Parallel(n_jobs=1)]: Done   3 out of   3 | elapsed:    0.0s remaining:    0.0s\n",
      "[Parallel(n_jobs=1)]: Done   4 out of   4 | elapsed:    0.1s remaining:    0.0s\n",
      "[Parallel(n_jobs=1)]: Done   5 out of   5 | elapsed:    0.1s remaining:    0.0s\n",
      "[Parallel(n_jobs=1)]: Done   6 out of   6 | elapsed:    0.1s remaining:    0.0s\n",
      "[Parallel(n_jobs=1)]: Done   7 out of   7 | elapsed:    0.1s remaining:    0.0s\n",
      "[Parallel(n_jobs=1)]: Done   8 out of   8 | elapsed:    0.1s remaining:    0.0s\n",
      "[Parallel(n_jobs=1)]: Done   9 out of   9 | elapsed:    0.2s remaining:    0.0s\n"
     ]
    },
    {
     "name": "stdout",
     "output_type": "stream",
     "text": [
      "[CV] ....... C=10, gamma=0.001, kernel=rbf, score=1.000, total=   0.0s\n",
      "[CV] C=10, gamma=0.001, kernel=rbf ...................................\n",
      "[CV] ....... C=10, gamma=0.001, kernel=rbf, score=0.985, total=   0.0s\n",
      "[CV] C=10, gamma=0.001, kernel=rbf ...................................\n",
      "[CV] ....... C=10, gamma=0.001, kernel=rbf, score=0.970, total=   0.0s\n",
      "[CV] C=10, gamma=0.0001, kernel=rbf ..................................\n",
      "[CV] ...... C=10, gamma=0.0001, kernel=rbf, score=0.913, total=   0.0s\n",
      "[CV] C=10, gamma=0.0001, kernel=rbf ..................................\n",
      "[CV] ...... C=10, gamma=0.0001, kernel=rbf, score=0.957, total=   0.0s\n",
      "[CV] C=10, gamma=0.0001, kernel=rbf ..................................\n",
      "[CV] ...... C=10, gamma=0.0001, kernel=rbf, score=0.941, total=   0.0s\n",
      "[CV] C=10, gamma=0.0001, kernel=rbf ..................................\n",
      "[CV] ...... C=10, gamma=0.0001, kernel=rbf, score=0.971, total=   0.0s\n",
      "[CV] C=10, gamma=0.0001, kernel=rbf ..................................\n",
      "[CV] ...... C=10, gamma=0.0001, kernel=rbf, score=0.940, total=   0.0s\n",
      "[CV] C=100, gamma=0.001, kernel=rbf ..................................\n",
      "[CV] ...... C=100, gamma=0.001, kernel=rbf, score=0.913, total=   0.0s\n",
      "[CV] C=100, gamma=0.001, kernel=rbf ..................................\n",
      "[CV] ...... C=100, gamma=0.001, kernel=rbf, score=1.000, total=   0.0s\n",
      "[CV] C=100, gamma=0.001, kernel=rbf ..................................\n",
      "[CV] ...... C=100, gamma=0.001, kernel=rbf, score=1.000, total=   0.0s\n",
      "[CV] C=100, gamma=0.001, kernel=rbf ..................................\n",
      "[CV] ...... C=100, gamma=0.001, kernel=rbf, score=0.971, total=   0.0s\n",
      "[CV] C=100, gamma=0.001, kernel=rbf ..................................\n",
      "[CV] ...... C=100, gamma=0.001, kernel=rbf, score=0.970, total=   0.0s\n",
      "[CV] C=100, gamma=0.0001, kernel=rbf .................................\n",
      "[CV] ..... C=100, gamma=0.0001, kernel=rbf, score=0.899, total=   0.0s\n",
      "[CV] C=100, gamma=0.0001, kernel=rbf .................................\n",
      "[CV] ..... C=100, gamma=0.0001, kernel=rbf, score=0.986, total=   0.0s\n",
      "[CV] C=100, gamma=0.0001, kernel=rbf .................................\n",
      "[CV] ..... C=100, gamma=0.0001, kernel=rbf, score=1.000, total=   0.0s\n",
      "[CV] C=100, gamma=0.0001, kernel=rbf .................................\n",
      "[CV] ..... C=100, gamma=0.0001, kernel=rbf, score=0.985, total=   0.0s\n",
      "[CV] C=100, gamma=0.0001, kernel=rbf .................................\n",
      "[CV] ..... C=100, gamma=0.0001, kernel=rbf, score=0.970, total=   0.0s\n",
      "[CV] C=1000, gamma=0.001, kernel=rbf .................................\n",
      "[CV] ..... C=1000, gamma=0.001, kernel=rbf, score=0.913, total=   0.0s\n",
      "[CV] C=1000, gamma=0.001, kernel=rbf .................................\n",
      "[CV] ..... C=1000, gamma=0.001, kernel=rbf, score=1.000, total=   0.0s\n",
      "[CV] C=1000, gamma=0.001, kernel=rbf .................................\n",
      "[CV] ..... C=1000, gamma=0.001, kernel=rbf, score=0.985, total=   0.0s\n",
      "[CV] C=1000, gamma=0.001, kernel=rbf .................................\n",
      "[CV] ..... C=1000, gamma=0.001, kernel=rbf, score=0.971, total=   0.0s\n",
      "[CV] C=1000, gamma=0.001, kernel=rbf .................................\n",
      "[CV] ..... C=1000, gamma=0.001, kernel=rbf, score=0.985, total=   0.0s\n",
      "[CV] C=1000, gamma=0.0001, kernel=rbf ................................\n",
      "[CV] .... C=1000, gamma=0.0001, kernel=rbf, score=0.913, total=   0.0s\n",
      "[CV] C=1000, gamma=0.0001, kernel=rbf ................................\n",
      "[CV] .... C=1000, gamma=0.0001, kernel=rbf, score=1.000, total=   0.0s\n",
      "[CV] C=1000, gamma=0.0001, kernel=rbf ................................\n",
      "[CV] .... C=1000, gamma=0.0001, kernel=rbf, score=1.000, total=   0.0s\n",
      "[CV] C=1000, gamma=0.0001, kernel=rbf ................................\n",
      "[CV] .... C=1000, gamma=0.0001, kernel=rbf, score=0.971, total=   0.0s\n",
      "[CV] C=1000, gamma=0.0001, kernel=rbf ................................\n",
      "[CV] .... C=1000, gamma=0.0001, kernel=rbf, score=0.985, total=   0.0s\n"
     ]
    },
    {
     "name": "stderr",
     "output_type": "stream",
     "text": [
      "[Parallel(n_jobs=1)]: Done  40 out of  40 | elapsed:    0.4s finished\n"
     ]
    }
   ],
   "source": [
    "grid_search = clf.fit(X_train, y_train)"
   ]
  },
  {
   "cell_type": "markdown",
   "metadata": {},
   "source": [
    "We can use also use all the CPU core with n_jobs=-1, to train these 40 models in parallel.\n",
    "\n"
   ]
  },
  {
   "cell_type": "code",
   "execution_count": 303,
   "metadata": {},
   "outputs": [],
   "source": [
    "#uncomment for parallel execution.\n",
    "#clf = GridSearchCV(SVC(probability=True), hyper_parameters, cv=5,\n",
    "#                       scoring='accuracy', verbose=10, n_jobs=-1)"
   ]
  },
  {
   "cell_type": "code",
   "execution_count": 304,
   "metadata": {},
   "outputs": [
    {
     "data": {
      "text/plain": [
       "SVC(C=1000, cache_size=200, class_weight=None, coef0=0.0,\n",
       "    decision_function_shape='ovr', degree=3, gamma=0.0001, kernel='rbf',\n",
       "    max_iter=-1, probability=True, random_state=None, shrinking=True, tol=0.001,\n",
       "    verbose=False)"
      ]
     },
     "execution_count": 304,
     "metadata": {},
     "output_type": "execute_result"
    }
   ],
   "source": [
    "grid_search.best_estimator_"
   ]
  },
  {
   "cell_type": "code",
   "execution_count": 305,
   "metadata": {},
   "outputs": [
    {
     "data": {
      "text/plain": [
       "0.9736070381231672"
      ]
     },
     "execution_count": 305,
     "metadata": {},
     "output_type": "execute_result"
    }
   ],
   "source": [
    "grid_search.best_score_"
   ]
  },
  {
   "cell_type": "markdown",
   "metadata": {},
   "source": [
    "# See the parameters selected by grid search."
   ]
  },
  {
   "cell_type": "code",
   "execution_count": 306,
   "metadata": {},
   "outputs": [
    {
     "data": {
      "text/plain": [
       "{'C': 1000, 'gamma': 0.0001, 'kernel': 'rbf'}"
      ]
     },
     "execution_count": 306,
     "metadata": {},
     "output_type": "execute_result"
    }
   ],
   "source": [
    "grid_search.best_params_"
   ]
  },
  {
   "cell_type": "code",
   "execution_count": 307,
   "metadata": {},
   "outputs": [
    {
     "data": {
      "text/plain": [
       "0.9649122807017544"
      ]
     },
     "execution_count": 307,
     "metadata": {},
     "output_type": "execute_result"
    }
   ],
   "source": [
    "grid_search.score(X_test, y_test)"
   ]
  },
  {
   "cell_type": "markdown",
   "metadata": {},
   "source": [
    "# Q3 print classification report"
   ]
  },
  {
   "cell_type": "code",
   "execution_count": null,
   "metadata": {},
   "outputs": [],
   "source": [
    "#Write code for prediction and classification report here\n",
    "\n"
   ]
  },
  {
   "cell_type": "markdown",
   "metadata": {},
   "source": [
    "As per documentation\n",
    "\n",
    "**\"The refitted estimator is made available at the best_estimator_ attribute and permits using predict directly on this GridSearchCV instance.\"**"
   ]
  },
  {
   "cell_type": "markdown",
   "metadata": {},
   "source": [
    "# ROC Curve "
   ]
  },
  {
   "cell_type": "code",
   "execution_count": 310,
   "metadata": {},
   "outputs": [],
   "source": [
    "y_test_pred_prob = grid_search.predict_proba(X_test)"
   ]
  },
  {
   "cell_type": "code",
   "execution_count": 311,
   "metadata": {},
   "outputs": [
    {
     "data": {
      "text/plain": [
       "array([[1.89360542e-01, 8.10639458e-01],\n",
       "       [9.79537041e-01, 2.04629595e-02],\n",
       "       [2.04835294e-02, 9.79516471e-01],\n",
       "       [9.83117358e-01, 1.68826422e-02],\n",
       "       [8.78201975e-01, 1.21798025e-01],\n",
       "       [9.91722786e-01, 8.27721366e-03],\n",
       "       [9.99640953e-01, 3.59046999e-04],\n",
       "       [7.14321885e-01, 2.85678115e-01],\n",
       "       [1.07845513e-02, 9.89215449e-01],\n",
       "       [4.33763594e-02, 9.56623641e-01],\n",
       "       [5.03578959e-03, 9.94964210e-01],\n",
       "       [9.97170156e-01, 2.82984374e-03],\n",
       "       [9.43223856e-01, 5.67761435e-02],\n",
       "       [8.35181161e-03, 9.91648188e-01],\n",
       "       [4.50565618e-01, 5.49434382e-01],\n",
       "       [6.09064172e-02, 9.39093583e-01],\n",
       "       [3.06782038e-03, 9.96932180e-01],\n",
       "       [2.52083530e-02, 9.74791647e-01],\n",
       "       [4.57672246e-06, 9.99995423e-01],\n",
       "       [9.98596515e-01, 1.40348516e-03],\n",
       "       [1.08934699e-02, 9.89106530e-01],\n",
       "       [1.89339868e-02, 9.81066013e-01],\n",
       "       [9.98827399e-01, 1.17260132e-03],\n",
       "       [4.46584732e-02, 9.55341527e-01],\n",
       "       [9.82119790e-01, 1.78802103e-02],\n",
       "       [2.54232142e-02, 9.74576786e-01],\n",
       "       [3.01772383e-02, 9.69822762e-01],\n",
       "       [9.99908326e-01, 9.16736614e-05],\n",
       "       [9.99999900e-01, 1.00000010e-07],\n",
       "       [9.80878433e-01, 1.91215665e-02],\n",
       "       [9.99999373e-01, 6.26561989e-07],\n",
       "       [4.37533668e-03, 9.95624663e-01],\n",
       "       [9.99875085e-01, 1.24915256e-04],\n",
       "       [9.15583414e-01, 8.44165860e-02],\n",
       "       [1.14517402e-05, 9.99988548e-01],\n",
       "       [1.29231430e-05, 9.99987077e-01],\n",
       "       [9.75595520e-01, 2.44044801e-02],\n",
       "       [8.38737427e-02, 9.16126257e-01],\n",
       "       [5.67239433e-01, 4.32760567e-01],\n",
       "       [8.69783331e-03, 9.91302167e-01],\n",
       "       [2.60662286e-03, 9.97393377e-01],\n",
       "       [2.99338162e-01, 7.00661838e-01],\n",
       "       [7.28081082e-02, 9.27191892e-01],\n",
       "       [1.10197390e-05, 9.99988980e-01],\n",
       "       [3.49128159e-02, 9.65087184e-01],\n",
       "       [9.96319288e-01, 3.68071207e-03],\n",
       "       [1.79885358e-07, 9.99999820e-01],\n",
       "       [2.70339772e-06, 9.99997297e-01],\n",
       "       [4.28512568e-02, 9.57148743e-01],\n",
       "       [9.31958622e-01, 6.80413783e-02],\n",
       "       [9.99138204e-01, 8.61795656e-04],\n",
       "       [9.99999818e-01, 1.82466506e-07],\n",
       "       [1.39211654e-02, 9.86078835e-01],\n",
       "       [1.16122502e-06, 9.99998839e-01],\n",
       "       [1.48032598e-02, 9.85196740e-01],\n",
       "       [7.71457039e-03, 9.92285430e-01],\n",
       "       [1.13896254e-02, 9.88610375e-01],\n",
       "       [9.28958678e-01, 7.10413215e-02],\n",
       "       [1.60570612e-02, 9.83942939e-01],\n",
       "       [3.54440307e-07, 9.99999646e-01],\n",
       "       [4.22741180e-07, 9.99999577e-01],\n",
       "       [9.97324665e-01, 2.67533533e-03],\n",
       "       [2.38475888e-02, 9.76152411e-01],\n",
       "       [3.34051804e-02, 9.66594820e-01],\n",
       "       [4.57008665e-03, 9.95429913e-01],\n",
       "       [3.84085132e-03, 9.96159149e-01],\n",
       "       [2.62427998e-03, 9.97375720e-01],\n",
       "       [9.99891327e-01, 1.08672733e-04],\n",
       "       [4.96761172e-06, 9.99995032e-01],\n",
       "       [6.06516917e-03, 9.93934831e-01],\n",
       "       [1.01551599e-07, 9.99999898e-01],\n",
       "       [3.26391696e-03, 9.96736083e-01],\n",
       "       [2.19750254e-01, 7.80249746e-01],\n",
       "       [9.99832212e-01, 1.67788412e-04],\n",
       "       [3.26785902e-07, 9.99999673e-01],\n",
       "       [9.99998857e-01, 1.14341464e-06],\n",
       "       [5.00000000e-01, 5.00000000e-01],\n",
       "       [1.20410165e-01, 8.79589835e-01],\n",
       "       [6.18130179e-07, 9.99999382e-01],\n",
       "       [9.97825038e-01, 2.17496208e-03],\n",
       "       [4.16880859e-03, 9.95831191e-01],\n",
       "       [9.99804381e-01, 1.95618907e-04],\n",
       "       [4.36773876e-07, 9.99999563e-01],\n",
       "       [9.99885140e-01, 1.14860026e-04],\n",
       "       [8.89415136e-03, 9.91105849e-01],\n",
       "       [2.96534602e-03, 9.97034654e-01],\n",
       "       [9.70680338e-01, 2.93196625e-02],\n",
       "       [4.73577774e-02, 9.52642223e-01],\n",
       "       [9.91252937e-01, 8.74706322e-03],\n",
       "       [7.86471063e-03, 9.92135289e-01],\n",
       "       [4.76852387e-02, 9.52314761e-01],\n",
       "       [9.87819113e-01, 1.21808869e-02],\n",
       "       [7.12642737e-03, 9.92873573e-01],\n",
       "       [4.07902802e-07, 9.99999592e-01],\n",
       "       [9.99924791e-01, 7.52091561e-05],\n",
       "       [8.61710907e-01, 1.38289093e-01],\n",
       "       [3.39450375e-08, 9.99999966e-01],\n",
       "       [1.11092434e-01, 8.88907566e-01],\n",
       "       [7.34750040e-03, 9.92652500e-01],\n",
       "       [4.69515890e-03, 9.95304841e-01],\n",
       "       [4.43036594e-02, 9.55696341e-01],\n",
       "       [7.78543497e-03, 9.92214565e-01],\n",
       "       [2.20932246e-07, 9.99999779e-01],\n",
       "       [1.71535204e-01, 8.28464796e-01],\n",
       "       [5.10167924e-02, 9.48983208e-01],\n",
       "       [1.89668509e-02, 9.81033149e-01],\n",
       "       [1.26275013e-07, 9.99999874e-01],\n",
       "       [1.48108250e-05, 9.99985189e-01],\n",
       "       [9.98572032e-01, 1.42796810e-03],\n",
       "       [9.65854933e-01, 3.41450666e-02],\n",
       "       [9.98316852e-01, 1.68314767e-03],\n",
       "       [8.87737407e-02, 9.11226259e-01],\n",
       "       [1.16686404e-01, 8.83313596e-01],\n",
       "       [1.61527910e-06, 9.99998385e-01],\n",
       "       [9.97721394e-01, 2.27860592e-03],\n",
       "       [9.99025393e-01, 9.74606722e-04],\n",
       "       [3.25701428e-09, 9.99999997e-01],\n",
       "       [1.52224805e-05, 9.99984778e-01],\n",
       "       [5.35431057e-06, 9.99994646e-01],\n",
       "       [2.06316672e-02, 9.79368333e-01],\n",
       "       [1.81398266e-01, 8.18601734e-01],\n",
       "       [9.99147072e-01, 8.52928125e-04],\n",
       "       [9.99984044e-01, 1.59559888e-05],\n",
       "       [4.33328458e-02, 9.56667154e-01],\n",
       "       [4.03667689e-02, 9.59633231e-01],\n",
       "       [9.99999900e-01, 1.00000010e-07],\n",
       "       [9.98394843e-01, 1.60515666e-03],\n",
       "       [4.84572079e-01, 5.15427921e-01],\n",
       "       [9.99999346e-01, 6.53715577e-07],\n",
       "       [9.99999900e-01, 1.00000010e-07],\n",
       "       [1.07128470e-01, 8.92871530e-01],\n",
       "       [1.81845253e-01, 8.18154747e-01],\n",
       "       [1.39016540e-05, 9.99986098e-01],\n",
       "       [9.99999224e-01, 7.76492824e-07],\n",
       "       [3.35450660e-09, 9.99999997e-01],\n",
       "       [9.92612716e-01, 7.38728417e-03],\n",
       "       [9.91345558e-01, 8.65444194e-03],\n",
       "       [3.32733758e-01, 6.67266242e-01],\n",
       "       [2.08874743e-02, 9.79112526e-01],\n",
       "       [6.69310224e-01, 3.30689776e-01],\n",
       "       [4.25430353e-01, 5.74569647e-01],\n",
       "       [9.99394653e-01, 6.05346839e-04],\n",
       "       [1.82106186e-02, 9.81789381e-01],\n",
       "       [9.99930085e-01, 6.99145196e-05],\n",
       "       [5.58537203e-01, 4.41462797e-01],\n",
       "       [9.75728033e-01, 2.42719671e-02],\n",
       "       [3.35193051e-07, 9.99999665e-01],\n",
       "       [2.22938713e-02, 9.77706129e-01],\n",
       "       [7.20977007e-06, 9.99992790e-01],\n",
       "       [9.99784331e-01, 2.15668846e-04],\n",
       "       [1.99149203e-02, 9.80085080e-01],\n",
       "       [3.61937411e-03, 9.96380626e-01],\n",
       "       [5.24537297e-01, 4.75462703e-01],\n",
       "       [9.68205962e-01, 3.17940385e-02],\n",
       "       [1.49424336e-01, 8.50575664e-01],\n",
       "       [2.70098726e-06, 9.99997299e-01],\n",
       "       [2.76637080e-01, 7.23362920e-01],\n",
       "       [2.68224143e-02, 9.73177586e-01],\n",
       "       [2.53222065e-02, 9.74677793e-01],\n",
       "       [3.30594495e-07, 9.99999669e-01],\n",
       "       [4.64089513e-03, 9.95359105e-01],\n",
       "       [2.92354047e-03, 9.97076460e-01],\n",
       "       [5.58950859e-02, 9.44104914e-01],\n",
       "       [6.96711537e-01, 3.03288463e-01],\n",
       "       [1.90359910e-05, 9.99980964e-01],\n",
       "       [2.89804454e-03, 9.97101955e-01],\n",
       "       [9.99500223e-01, 4.99777413e-04],\n",
       "       [9.99971930e-01, 2.80703866e-05],\n",
       "       [9.95161182e-01, 4.83881837e-03],\n",
       "       [1.88325858e-02, 9.81167414e-01],\n",
       "       [3.59101139e-03, 9.96408989e-01],\n",
       "       [7.54912041e-03, 9.92450880e-01],\n",
       "       [1.64701545e-05, 9.99983530e-01],\n",
       "       [1.75635080e-01, 8.24364920e-01],\n",
       "       [2.81260112e-03, 9.97187399e-01],\n",
       "       [1.45478361e-02, 9.85452164e-01],\n",
       "       [1.43599314e-10, 1.00000000e+00],\n",
       "       [7.49612929e-03, 9.92503871e-01],\n",
       "       [8.73899329e-02, 9.12610067e-01],\n",
       "       [1.46738274e-10, 1.00000000e+00],\n",
       "       [3.11324674e-07, 9.99999689e-01],\n",
       "       [4.73485123e-06, 9.99995265e-01],\n",
       "       [1.08297477e-01, 8.91702523e-01],\n",
       "       [4.57609589e-03, 9.95423904e-01],\n",
       "       [1.82560027e-01, 8.17439973e-01],\n",
       "       [9.99999415e-01, 5.85055457e-07],\n",
       "       [9.99958296e-01, 4.17042661e-05],\n",
       "       [1.88935379e-02, 9.81106462e-01],\n",
       "       [9.99425047e-01, 5.74953212e-04],\n",
       "       [6.19851550e-08, 9.99999938e-01],\n",
       "       [7.19956513e-03, 9.92800435e-01],\n",
       "       [1.19260564e-02, 9.88073944e-01],\n",
       "       [8.58109046e-02, 9.14189095e-01],\n",
       "       [9.38037542e-01, 6.19624578e-02],\n",
       "       [9.99978361e-01, 2.16392763e-05],\n",
       "       [1.62601155e-02, 9.83739885e-01],\n",
       "       [1.77720311e-08, 9.99999982e-01],\n",
       "       [9.87395931e-01, 1.26040689e-02],\n",
       "       [9.95334725e-01, 4.66527512e-03],\n",
       "       [4.44517869e-02, 9.55548213e-01],\n",
       "       [9.57786987e-01, 4.22130126e-02],\n",
       "       [4.40207534e-01, 5.59792466e-01],\n",
       "       [7.45343757e-01, 2.54656243e-01],\n",
       "       [2.42632594e-02, 9.75736741e-01],\n",
       "       [9.99995551e-01, 4.44850221e-06],\n",
       "       [1.14212533e-01, 8.85787467e-01],\n",
       "       [9.97869758e-03, 9.90021302e-01],\n",
       "       [2.10807486e-02, 9.78919251e-01],\n",
       "       [9.87324171e-01, 1.26758293e-02],\n",
       "       [7.93860906e-01, 2.06139094e-01],\n",
       "       [3.40713012e-01, 6.59286988e-01],\n",
       "       [1.51817857e-02, 9.84818214e-01],\n",
       "       [1.66108421e-06, 9.99998339e-01],\n",
       "       [1.05831325e-01, 8.94168675e-01],\n",
       "       [9.99999387e-01, 6.12740694e-07],\n",
       "       [1.79957558e-01, 8.20042442e-01],\n",
       "       [5.88134808e-03, 9.94118652e-01],\n",
       "       [1.40266206e-01, 8.59733794e-01],\n",
       "       [2.00499621e-06, 9.99997995e-01],\n",
       "       [6.87449105e-03, 9.93125509e-01],\n",
       "       [2.69310266e-02, 9.73068973e-01],\n",
       "       [6.12041485e-03, 9.93879585e-01],\n",
       "       [9.99960524e-01, 3.94763011e-05],\n",
       "       [3.25781203e-06, 9.99996742e-01],\n",
       "       [9.99999900e-01, 1.00000010e-07],\n",
       "       [1.40023385e-09, 9.99999999e-01],\n",
       "       [1.23710881e-06, 9.99998763e-01],\n",
       "       [9.99998988e-01, 1.01198440e-06]])"
      ]
     },
     "execution_count": 311,
     "metadata": {},
     "output_type": "execute_result"
    }
   ],
   "source": [
    "y_test_pred_prob"
   ]
  },
  {
   "cell_type": "code",
   "execution_count": 312,
   "metadata": {},
   "outputs": [],
   "source": [
    "# Probability for the positive outcome\n",
    "prob = y_test_pred_prob[:, 1]"
   ]
  },
  {
   "cell_type": "markdown",
   "metadata": {},
   "source": [
    "# Remember we can see model performance( true positive rate and false positive rate) across various thresholds using ROC curve.\n",
    "\n",
    "Let's plot it"
   ]
  },
  {
   "cell_type": "code",
   "execution_count": 313,
   "metadata": {},
   "outputs": [],
   "source": [
    "FPR, TPR, THR = roc_curve(y_test, prob)"
   ]
  },
  {
   "cell_type": "code",
   "execution_count": 314,
   "metadata": {},
   "outputs": [
    {
     "data": {
      "text/plain": [
       "(array([0.    , 0.    , 0.    , 0.0125, 0.0125, 0.025 , 0.025 , 0.0375,\n",
       "        0.0375, 0.05  , 0.05  , 0.0625, 0.0625, 0.075 , 0.075 , 0.95  ,\n",
       "        1.    ]),\n",
       " array([0.        , 0.00675676, 0.86486486, 0.86486486, 0.87162162,\n",
       "        0.87162162, 0.93243243, 0.93243243, 0.95945946, 0.95945946,\n",
       "        0.97972973, 0.97972973, 0.99324324, 0.99324324, 1.        ,\n",
       "        1.        , 1.        ]),\n",
       " array([2.00000000e+00, 1.00000000e+00, 8.88907566e-01, 8.85787467e-01,\n",
       "        8.83313596e-01, 8.79589835e-01, 8.10639458e-01, 7.80249746e-01,\n",
       "        6.59286988e-01, 5.74569647e-01, 5.15427921e-01, 5.00000000e-01,\n",
       "        4.41462797e-01, 4.32760567e-01, 3.30689776e-01, 1.82466506e-07,\n",
       "        1.00000010e-07]))"
      ]
     },
     "execution_count": 314,
     "metadata": {},
     "output_type": "execute_result"
    }
   ],
   "source": [
    "FPR, TPR, THR"
   ]
  },
  {
   "cell_type": "code",
   "execution_count": 315,
   "metadata": {},
   "outputs": [
    {
     "data": {
      "text/plain": [
       "<matplotlib.legend.Legend at 0x7fce04f43160>"
      ]
     },
     "execution_count": 315,
     "metadata": {},
     "output_type": "execute_result"
    },
    {
     "data": {
      "image/png": "[encoded data removed]",
      "text/plain": [
       "<Figure size 432x288 with 1 Axes>"
      ]
     },
     "metadata": {
      "needs_background": "light"
     },
     "output_type": "display_data"
    }
   ],
   "source": [
    "plt.plot([0, 1], [0, 1], label=\"random guess\") # random model\n",
    "plt.plot(FPR, TPR,  '--', label= \"tunned svm with rbf\")\n",
    "plt.xlabel('FPR')\n",
    "plt.ylabel('TPR')\n",
    "plt.title('ROC Curve')\n",
    "plt.legend()"
   ]
  },
  {
   "cell_type": "markdown",
   "metadata": {},
   "source": [
    "# Q4 Print Area under the curve(AUC) for tunned SVM. "
   ]
  },
  {
   "cell_type": "code",
   "execution_count": 2,
   "metadata": {},
   "outputs": [],
   "source": [
    "# Write code here\n",
    "\n"
   ]
  },
  {
   "cell_type": "markdown",
   "metadata": {},
   "source": [
    "It is a pretty good model."
   ]
  }
 ],
 "metadata": {
  "kernelspec": {
   "display_name": "Python 3",
   "language": "python",
   "name": "python3"
  },
  "language_info": {
   "codemirror_mode": {
    "name": "ipython",
    "version": 3
   },
   "file_extension": ".py",
   "mimetype": "text/x-python",
   "name": "python",
   "nbconvert_exporter": "python",
   "pygments_lexer": "ipython3",
   "version": "3.5.2"
  },
  "toc": {
   "base_numbering": 1,
   "nav_menu": {},
   "number_sections": false,
   "sideBar": true,
   "skip_h1_title": false,
   "title_cell": "Table of Contents",
   "title_sidebar": "Contents",
   "toc_cell": false,
   "toc_position": {},
   "toc_section_display": true,
   "toc_window_display": false
  },
  "varInspector": {
   "cols": {
    "lenName": 16,
    "lenType": 16,
    "lenVar": 40
   },
   "kernels_config": {
    "python": {
     "delete_cmd_postfix": "",
     "delete_cmd_prefix": "del ",
     "library": "var_list.py",
     "varRefreshCmd": "print(var_dic_list())"
    },
    "r": {
     "delete_cmd_postfix": ") ",
     "delete_cmd_prefix": "rm(",
     "library": "var_list.r",
     "varRefreshCmd": "cat(var_dic_list()) "
    }
   },
   "types_to_exclude": [
    "module",
    "function",
    "builtin_function_or_method",
    "instance",
    "_Feature"
   ],
   "window_display": false
  }
 },
 "nbformat": 4,
 "nbformat_minor": 2
}
